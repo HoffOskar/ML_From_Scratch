{
 "cells": [
  {
   "cell_type": "markdown",
   "metadata": {},
   "source": [
    "# Logistic Regression\n",
    "\n",
    "Logistic regression with Ridge regularization for binary classification is implemented in the class [`LogReg`](../utils/linear.py) using gradient descent. "
   ]
  },
  {
   "cell_type": "markdown",
   "metadata": {},
   "source": [
    "## Prediction Function\n",
    "\n",
    "The sigmoid function is applied to linear regression:\n",
    "\n",
    "$$\n",
    "\\hat{\\mathbf{y}} = \\sigma(\\mathbf{X} \\boldsymbol{\\beta}) = \\frac{1}{1 + e^{-(\\mathbf{X} \\boldsymbol{\\beta})}}\n",
    "$$\n",
    "\n",
    "Where:\n",
    "- $ \\hat{\\mathbf{y}} \\in \\mathbb{R}^{n \\times 1} $ ... vector of predicted probabilities  \n",
    "- $ n $ samples  \n",
    "- $ \\mathbf{X} \\in \\mathbb{R}^{n \\times (d + 1)} $ ... feature matrix with:\n",
    "  - $ d $ features  \n",
    "  - A column of ones (intercept term)  \n",
    "- $ \\boldsymbol{\\beta} \\in \\mathbb{R}^{(d + 1) \\times 1} $ ... vector of coefficients, where:  \n",
    "  - $ \\beta_0 $ is the intercept \n",
    "  - $ \\beta_1, \\beta_2, \\ldots, \\beta_d $ are the feature weights  \n",
    "\n",
    "---\n",
    "\n",
    "## Loss Function\n",
    "The binary cross-entropy loss with L2 regularization in matrix notation is defined as:\n",
    "\n",
    "$$\n",
    "\\mathcal{L}(\\boldsymbol{\\beta}) = \n",
    "- \\mathbf{y}^\\top \\log \\hat{\\mathbf{y}} \n",
    "- (\\mathbf{1} - \\mathbf{y})^\\top \\log (\\mathbf{1} - \\hat{\\mathbf{y}})\n",
    "+ \\alpha \\boldsymbol{\\beta}^\\top \\boldsymbol{\\beta}\n",
    "$$\n",
    "\n",
    "Where:\n",
    "- $ \\mathbf{y} \\in \\mathbb{R}^{n \\times 1} $ ... vector of true binary target labels  \n",
    "- $ \\hat{\\mathbf{y}} = \\sigma(\\mathbf{X} \\boldsymbol{\\beta}) $ ... vector of predicted probabilities  \n",
    "- $ \\mathbf{1} $ ... vector of ones for element-wise subtraction  \n",
    "- $ \\alpha $ ... regularization parameter  \n",
    "- $ \\boldsymbol{\\beta}^\\top \\boldsymbol{\\beta} $ ... L2 regularization term (sum of squared coefficients)  \n",
    "\n",
    "---\n",
    "\n",
    "\n",
    "## Differentiate the Loss Function\n",
    "\n",
    "The gradient to minimize the loss function is obtained by computing its derivative with respect to $ \\boldsymbol{\\beta} $.  \n",
    "\n",
    "\n",
    "### Regularization Term\n",
    "$$\n",
    "\\frac{\\partial }{\\partial \\boldsymbol{\\beta}}  \\alpha \\boldsymbol{\\beta}^\\top \\boldsymbol{\\beta} = 2\\alpha \\boldsymbol{\\beta}\n",
    "$$\n",
    "\n",
    "### Binary Cross-Entropy Term\n",
    "\n",
    "Computing the derivative of the binary cross-entropy term can be found from  multiple sources ([exampe](https://www.python-unleashed.com/post/derivation-of-the-binary-cross-entropy-loss-gradient)). It is somewhat lengthy, but simplifies to:\n",
    "\n",
    "$$\n",
    "\\frac{\\partial }{\\partial \\boldsymbol{\\beta}} \n",
    "(- \\mathbf{y}^\\top \\log \\hat{\\mathbf{y}} - (\\mathbf{1} - \\mathbf{y})^\\top \\log (\\mathbf{1} - \\hat{\\mathbf{y}})) = \\mathbf{X}^\\top (\\hat{\\mathbf{y}} - \\mathbf{y})\n",
    "$$\n",
    "\n",
    "### Combined\n",
    "$$\n",
    "\\frac{\\partial \\mathcal{L}}{\\partial \\boldsymbol{\\beta}} =  \\mathbf{X}^\\top (\\hat{\\mathbf{y}} - \\mathbf{y}) + 2\\alpha \\boldsymbol{\\beta}\n",
    "\n",
    "$$"
   ]
  },
  {
   "cell_type": "markdown",
   "metadata": {},
   "source": [
    "## Imports & Settings"
   ]
  },
  {
   "cell_type": "code",
   "execution_count": 1,
   "metadata": {},
   "outputs": [],
   "source": [
    "### Imports\n",
    "import os\n",
    "import sys\n",
    "\n",
    "import matplotlib.pyplot as plt\n",
    "import numpy as np\n",
    "from sklearn.model_selection import train_test_split\n",
    "from sklearn.metrics import accuracy_score\n",
    "import pandas as pd"
   ]
  },
  {
   "cell_type": "code",
   "execution_count": 2,
   "metadata": {},
   "outputs": [],
   "source": [
    "### Add the utils directory to the path\n",
    "sys.path.append(os.path.abspath(\"../utils\"))\n",
    "import linear"
   ]
  },
  {
   "cell_type": "code",
   "execution_count": 3,
   "metadata": {},
   "outputs": [],
   "source": [
    "### Settings\n",
    "SEED = 2\n",
    "np.random.seed(SEED)"
   ]
  },
  {
   "cell_type": "markdown",
   "metadata": {},
   "source": [
    "# Data\n",
    "A pre-processed data set on [BRD4](https://github.com/HoffOskar/QSAR_BRD4) inhibitors are used. \n",
    "\n"
   ]
  },
  {
   "cell_type": "code",
   "execution_count": 4,
   "metadata": {},
   "outputs": [
    {
     "data": {
      "text/plain": [
       "((2397, 2048), (2397, 2))"
      ]
     },
     "execution_count": 4,
     "metadata": {},
     "output_type": "execute_result"
    }
   ],
   "source": [
    "### Load the data\n",
    "X_morgan_2048 = np.loadtxt(\"data/X_morgan_2048.csv\", delimiter=\",\")\n",
    "y_df = pd.read_csv(\"data/y.csv\")\n",
    "\n",
    "### Check shapes\n",
    "X_morgan_2048.shape, y_df.shape"
   ]
  },
  {
   "cell_type": "code",
   "execution_count": 5,
   "metadata": {},
   "outputs": [
    {
     "data": {
      "text/plain": [
       "((1917, 2048), (1917,), (480, 2048), (480,))"
      ]
     },
     "execution_count": 5,
     "metadata": {},
     "output_type": "execute_result"
    }
   ],
   "source": [
    "### Split the data\n",
    "X_train, X_test, y_train, y_test = train_test_split(X_morgan_2048, y_df['active'].to_numpy(), test_size=0.2, random_state=SEED)\n",
    "\n",
    "### Check shapes\n",
    "X_train.shape, y_train.shape, X_test.shape, y_test.shape"
   ]
  },
  {
   "cell_type": "markdown",
   "metadata": {},
   "source": [
    "# Model test"
   ]
  },
  {
   "cell_type": "code",
   "execution_count": 6,
   "metadata": {},
   "outputs": [],
   "source": [
    "### Define the learning rate\n",
    "lr = 0.01\n",
    "\n",
    "### Define the number of iterations\n",
    "it = 300\n",
    "\n",
    "### Define regularization parameters\n",
    "alphas = np.logspace(-4, 2, num=5)\n",
    "alphas = [0.001, 0.1, 1, 10]\n",
    "\n",
    "### Containers for the errors\n",
    "train_scores = []\n",
    "test_scores = []\n",
    "\n",
    "for alpha in alphas:\n",
    "    ### Fit the model\n",
    "    model = linear.LogReg(alpha=alpha, learning_rate=lr, max_iter=it)\n",
    "    model.fit(X_train, y_train)\n",
    "    \n",
    "    ### Compute the train RMSEs\n",
    "    y_train_pred = model.predict(X_train)\n",
    "    train_score = accuracy_score(y_train, y_train_pred)\n",
    "    train_scores.append(train_score)\n",
    "\n",
    "    ### Compute the test RMSEs\n",
    "    y_test_pred = model.predict(X_test)\n",
    "    test_score = accuracy_score(y_test, y_test_pred)\n",
    "    test_scores.append(test_score)"
   ]
  },
  {
   "cell_type": "code",
   "execution_count": 7,
   "metadata": {},
   "outputs": [
    {
     "data": {
      "image/png": "[encoded data removed]",
      "text/plain": [
       "<Figure size 640x480 with 1 Axes>"
      ]
     },
     "metadata": {},
     "output_type": "display_data"
    }
   ],
   "source": [
    "### Plot\n",
    "plt.plot(alphas, train_scores, label='train')\n",
    "plt.plot(alphas, test_scores, label='test')\n",
    "plt.xscale('log')\n",
    "plt.xlabel('Alpha')\n",
    "plt.ylabel('Accuracy')\n",
    "plt.legend()\n",
    "plt.title('Logistic regression of BRD4 inhibitors')\n",
    "plt.show()"
   ]
  },
  {
   "cell_type": "markdown",
   "metadata": {},
   "source": [
    "The plot shows overfitting for $\\alpha < 1$ and clear underfitting $\\alpha > 1$. "
   ]
  }
 ],
 "metadata": {
  "kernelspec": {
   "display_name": "ml",
   "language": "python",
   "name": "python3"
  },
  "language_info": {
   "codemirror_mode": {
    "name": "ipython",
    "version": 3
   },
   "file_extension": ".py",
   "mimetype": "text/x-python",
   "name": "python",
   "nbconvert_exporter": "python",
   "pygments_lexer": "ipython3",
   "version": "3.8.20"
  }
 },
 "nbformat": 4,
 "nbformat_minor": 2
}
